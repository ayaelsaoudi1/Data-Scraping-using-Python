{
 "cells": [
  {
   "cell_type": "markdown",
   "id": "5edd8443-c485-4c9b-931e-2b756ba9c40d",
   "metadata": {},
   "source": [
    "## Importing Necessary Libraries"
   ]
  },
  {
   "cell_type": "code",
   "execution_count": 2,
   "id": "337866c2-1a4d-4e93-84e9-1b8da05e09d9",
   "metadata": {},
   "outputs": [],
   "source": [
    "from bs4 import BeautifulSoup  # Library for parsing HTML\n",
    "import requests  # Library for making HTTP requests\n",
    "import pandas as pd  # Library for handling tabular data"
   ]
  },
  {
   "cell_type": "markdown",
   "id": "2d6b9e2b-a1f1-492b-858e-6b005f6e209f",
   "metadata": {},
   "source": [
    "## Fetching the Web Page"
   ]
  },
  {
   "cell_type": "code",
   "execution_count": 3,
   "id": "39c88b37-3c21-4a93-a687-9ddac31af6cf",
   "metadata": {},
   "outputs": [],
   "source": [
    "url = 'https://en.wikipedia.org/wiki/List_of_largest_companies_in_the_United_States_by_revenue'\n",
    "page = requests.get(url)  # Sending a request to the webpage\n",
    "soup = BeautifulSoup(page.text, 'html.parser')  # Parsing the HTML content"
   ]
  },
  {
   "cell_type": "markdown",
   "id": "2a0df8cc-7e98-4340-b869-bbcfb810332e",
   "metadata": {},
   "source": [
    "## Extracting the Relevant Table"
   ]
  },
  {
   "cell_type": "code",
   "execution_count": 4,
   "id": "13824e8b-683d-4ecc-b474-43e04eaa1b63",
   "metadata": {},
   "outputs": [],
   "source": [
    "# Wikipedia pages often have multiple tables; selecting the second table\n",
    "tables = soup.find_all('table')\n",
    "if len(tables) > 1:\n",
    "    table = tables[1]\n",
    "else:\n",
    "    raise ValueError(\"Expected table not found on the webpage.\")"
   ]
  },
  {
   "cell_type": "markdown",
   "id": "31075d00-174d-4c6b-b4d6-24095257f701",
   "metadata": {},
   "source": [
    "##### Alternative method: Finding tables with a specific class (ensuring accuracy)\n",
    "```python\n",
    "wiki_tables = soup.find_all('table', class_='wikitable sortable')\n",
    "if wiki_tables:\n",
    "    table = wiki_tables[0]  # Selecting the first matching table\n",
    "\n",
    "print(table)  # Printing table for verification (optional)\n",
    "```"
   ]
  },
  {
   "cell_type": "code",
   "execution_count": 5,
   "id": "7ec713e9-0a9a-4960-9e06-14a4ef91823a",
   "metadata": {
    "collapsed": true,
    "jupyter": {
     "outputs_hidden": true
    }
   },
   "outputs": [
    {
     "name": "stdout",
     "output_type": "stream",
     "text": [
      "<table class=\"wikitable sortable\">\n",
      "<tbody><tr>\n",
      "<th>Rank\n",
      "</th>\n",
      "<th>Name\n",
      "</th>\n",
      "<th>Industry\n",
      "</th>\n",
      "<th>Revenue <br/>(USD billions)\n",
      "</th>\n",
      "<th>Employees\n",
      "</th>\n",
      "<th>Headquarters\n",
      "</th></tr>\n",
      "<tr>\n",
      "<td>1\n",
      "</td>\n",
      "<td><a href=\"/wiki/Cargill\" title=\"Cargill\">Cargill</a>\n",
      "</td>\n",
      "<td>Food industry\n",
      "</td>\n",
      "<td style=\"text-align:center;\">177\n",
      "</td>\n",
      "<td style=\"text-align:center;\">160,000\n",
      "</td>\n",
      "<td><a href=\"/wiki/Minnetonka,_Minnesota\" title=\"Minnetonka, Minnesota\">Minnetonka, Minnesota</a>\n",
      "</td></tr>\n",
      "<tr>\n",
      "<td>2\n",
      "</td>\n",
      "<td><a class=\"mw-redirect\" href=\"/wiki/Koch_Industries\" title=\"Koch Industries\">Koch Industries</a>\n",
      "</td>\n",
      "<td>Conglomerate\n",
      "</td>\n",
      "<td style=\"text-align:center;\">125\n",
      "</td>\n",
      "<td style=\"text-align:center;\">120,000\n",
      "</td>\n",
      "<td><a href=\"/wiki/Wichita,_Kansas\" title=\"Wichita, Kansas\">Wichita, Kansas</a>\n",
      "</td></tr>\n",
      "<tr>\n",
      "<td>3\n",
      "</td>\n",
      "<td><a class=\"mw-redirect\" href=\"/wiki/Publix_Super_Markets\" title=\"Publix Super Markets\">Publix Super Markets</a>\n",
      "</td>\n",
      "<td>Retail\n",
      "</td>\n",
      "<td style=\"text-align:center;\">54.5\n",
      "</td>\n",
      "<td style=\"text-align:center;\">250,000\n",
      "</td>\n",
      "<td>Lakeland, Florida\n",
      "</td></tr>\n",
      "<tr>\n",
      "<td>4\n",
      "</td>\n",
      "<td><a class=\"mw-redirect\" href=\"/wiki/Mars,_Incorporated\" title=\"Mars, Incorporated\">Mars, Incorporated</a>\n",
      "</td>\n",
      "<td>Food industry\n",
      "</td>\n",
      "<td style=\"text-align:center;\">47\n",
      "</td>\n",
      "<td style=\"text-align:center;\">140,000\n",
      "</td>\n",
      "<td><a href=\"/wiki/McLean,_Virginia\" title=\"McLean, Virginia\">McLean, Virginia</a>\n",
      "</td></tr>\n",
      "<tr>\n",
      "<td>5\n",
      "</td>\n",
      "<td><a href=\"/wiki/H-E-B\" title=\"H-E-B\">H-E-B</a>\n",
      "</td>\n",
      "<td>Retail\n",
      "</td>\n",
      "<td style=\"text-align:center;\">43.6\n",
      "</td>\n",
      "<td style=\"text-align:center;\">145,000\n",
      "</td>\n",
      "<td><a class=\"mw-redirect\" href=\"/wiki/San_Antonio,_Texas\" title=\"San Antonio, Texas\">San Antonio, Texas</a>\n",
      "</td></tr>\n",
      "<tr>\n",
      "<td>6\n",
      "</td>\n",
      "<td><a href=\"/wiki/Reyes_Holdings\" title=\"Reyes Holdings\">Reyes Holdings</a>\n",
      "</td>\n",
      "<td><a href=\"/wiki/Wholesaling\" title=\"Wholesaling\">Wholesaling</a>\n",
      "</td>\n",
      "<td style=\"text-align:center;\">40\n",
      "</td>\n",
      "<td style=\"text-align:center;\">36,000\n",
      "</td>\n",
      "<td><a href=\"/wiki/Rosemont,_Illinois\" title=\"Rosemont, Illinois\">Rosemont, Illinois</a>\n",
      "</td></tr>\n",
      "<tr>\n",
      "<td>7\n",
      "</td>\n",
      "<td><a href=\"/wiki/Enterprise_Holdings\" title=\"Enterprise Holdings\">Enterprise Holdings</a>\n",
      "</td>\n",
      "<td><a href=\"/wiki/Car_rental\" title=\"Car rental\">Car rental</a>\n",
      "</td>\n",
      "<td style=\"text-align:center;\">35\n",
      "</td>\n",
      "<td style=\"text-align:center;\">90,000\n",
      "</td>\n",
      "<td><a href=\"/wiki/Clayton,_Missouri\" title=\"Clayton, Missouri\">Clayton, Missouri</a>\n",
      "</td></tr>\n",
      "<tr>\n",
      "<td>8\n",
      "</td>\n",
      "<td><a href=\"/wiki/C%26S_Wholesale_Grocers\" title=\"C&amp;S Wholesale Grocers\">C&amp;S Wholesale Grocers</a>\n",
      "</td>\n",
      "<td>Wholesaling\n",
      "</td>\n",
      "<td style=\"text-align:center;\">34.7\n",
      "</td>\n",
      "<td style=\"text-align:center;\">15,000\n",
      "</td>\n",
      "<td><a href=\"/wiki/Keene,_New_Hampshire\" title=\"Keene, New Hampshire\">Keene, New Hampshire</a>\n",
      "</td></tr>\n",
      "<tr>\n",
      "<td>9\n",
      "</td>\n",
      "<td><a href=\"/wiki/Love%27s\" title=\"Love's\">Love's</a>\n",
      "</td>\n",
      "<td>Petroleum industry and Retail\n",
      "</td>\n",
      "<td style=\"text-align:center;\">26.5\n",
      "</td>\n",
      "<td style=\"text-align:center;\">40,000\n",
      "</td>\n",
      "<td><a class=\"mw-redirect\" href=\"/wiki/Oklahoma_City,_Oklahoma\" title=\"Oklahoma City, Oklahoma\">Oklahoma City, Oklahoma</a>\n",
      "</td></tr>\n",
      "<tr>\n",
      "<td>10\n",
      "</td>\n",
      "<td><a href=\"/wiki/Southern_Glazer%27s_Wine_and_Spirits\" title=\"Southern Glazer's Wine and Spirits\">Southern Glazer's Wine and Spirits</a>\n",
      "</td>\n",
      "<td>Food industry\n",
      "</td>\n",
      "<td style=\"text-align:center;\">26.0\n",
      "</td>\n",
      "<td style=\"text-align:center;\">24,000\n",
      "</td>\n",
      "<td><a href=\"/wiki/Miramar,_Florida\" title=\"Miramar, Florida\">Miramar, Florida</a>\n",
      "</td></tr></tbody></table>\n"
     ]
    }
   ],
   "source": [
    "print(table)  # Printing table for verification (optional)"
   ]
  },
  {
   "cell_type": "markdown",
   "id": "cf1dde98-3895-479a-97aa-348973aec07d",
   "metadata": {},
   "source": [
    "## Extracting Table Headers"
   ]
  },
  {
   "cell_type": "code",
   "execution_count": 7,
   "id": "ec2945f1-01ec-4b05-a9b2-7fbe75cdb3b9",
   "metadata": {},
   "outputs": [],
   "source": [
    "world_titles = table.find_all('th')  # Finding all header elements\n",
    "world_table_titles = [title.text.strip() for title in world_titles]  # Cleaning header text"
   ]
  },
  {
   "cell_type": "markdown",
   "id": "e1541d62-9f8c-434e-8234-c380724d5ef6",
   "metadata": {},
   "source": [
    "## Creating a DataFrame"
   ]
  },
  {
   "cell_type": "code",
   "execution_count": 8,
   "id": "cb1343f2-d6ea-4cfd-8804-2ff6a3caa2e0",
   "metadata": {},
   "outputs": [],
   "source": [
    "# Initializing an empty DataFrame with column names\n",
    "df = pd.DataFrame(columns=world_table_titles)"
   ]
  },
  {
   "cell_type": "markdown",
   "id": "06b417cf-5e27-432a-b102-49e29d5b367c",
   "metadata": {},
   "source": [
    "## Extracting Table Data"
   ]
  },
  {
   "cell_type": "code",
   "execution_count": 9,
   "id": "d4157e01-6f79-452b-ac05-efbbbbe0a506",
   "metadata": {},
   "outputs": [],
   "source": [
    "column_data = table.find_all('tr')  # Finding all table rows\n",
    "for row in column_data[1:]:  # Skipping the header row\n",
    "    row_data = row.find_all('td')  # Finding all cells in the row\n",
    "    individual_row_data = [data.text.strip() for data in row_data]  # Cleaning cell text\n",
    "    df.loc[len(df)] = individual_row_data  # Appending row data to DataFrame"
   ]
  },
  {
   "cell_type": "code",
   "execution_count": 10,
   "id": "807e3bf7-18f9-4795-a14b-3b0419e92749",
   "metadata": {},
   "outputs": [
    {
     "data": {
      "text/html": [
       "<div>\n",
       "<style scoped>\n",
       "    .dataframe tbody tr th:only-of-type {\n",
       "        vertical-align: middle;\n",
       "    }\n",
       "\n",
       "    .dataframe tbody tr th {\n",
       "        vertical-align: top;\n",
       "    }\n",
       "\n",
       "    .dataframe thead th {\n",
       "        text-align: right;\n",
       "    }\n",
       "</style>\n",
       "<table border=\"1\" class=\"dataframe\">\n",
       "  <thead>\n",
       "    <tr style=\"text-align: right;\">\n",
       "      <th></th>\n",
       "      <th>Rank</th>\n",
       "      <th>Name</th>\n",
       "      <th>Industry</th>\n",
       "      <th>Revenue (USD billions)</th>\n",
       "      <th>Employees</th>\n",
       "      <th>Headquarters</th>\n",
       "    </tr>\n",
       "  </thead>\n",
       "  <tbody>\n",
       "    <tr>\n",
       "      <th>0</th>\n",
       "      <td>1</td>\n",
       "      <td>Cargill</td>\n",
       "      <td>Food industry</td>\n",
       "      <td>177</td>\n",
       "      <td>160,000</td>\n",
       "      <td>Minnetonka, Minnesota</td>\n",
       "    </tr>\n",
       "    <tr>\n",
       "      <th>1</th>\n",
       "      <td>2</td>\n",
       "      <td>Koch Industries</td>\n",
       "      <td>Conglomerate</td>\n",
       "      <td>125</td>\n",
       "      <td>120,000</td>\n",
       "      <td>Wichita, Kansas</td>\n",
       "    </tr>\n",
       "    <tr>\n",
       "      <th>2</th>\n",
       "      <td>3</td>\n",
       "      <td>Publix Super Markets</td>\n",
       "      <td>Retail</td>\n",
       "      <td>54.5</td>\n",
       "      <td>250,000</td>\n",
       "      <td>Lakeland, Florida</td>\n",
       "    </tr>\n",
       "    <tr>\n",
       "      <th>3</th>\n",
       "      <td>4</td>\n",
       "      <td>Mars, Incorporated</td>\n",
       "      <td>Food industry</td>\n",
       "      <td>47</td>\n",
       "      <td>140,000</td>\n",
       "      <td>McLean, Virginia</td>\n",
       "    </tr>\n",
       "    <tr>\n",
       "      <th>4</th>\n",
       "      <td>5</td>\n",
       "      <td>H-E-B</td>\n",
       "      <td>Retail</td>\n",
       "      <td>43.6</td>\n",
       "      <td>145,000</td>\n",
       "      <td>San Antonio, Texas</td>\n",
       "    </tr>\n",
       "    <tr>\n",
       "      <th>5</th>\n",
       "      <td>6</td>\n",
       "      <td>Reyes Holdings</td>\n",
       "      <td>Wholesaling</td>\n",
       "      <td>40</td>\n",
       "      <td>36,000</td>\n",
       "      <td>Rosemont, Illinois</td>\n",
       "    </tr>\n",
       "    <tr>\n",
       "      <th>6</th>\n",
       "      <td>7</td>\n",
       "      <td>Enterprise Holdings</td>\n",
       "      <td>Car rental</td>\n",
       "      <td>35</td>\n",
       "      <td>90,000</td>\n",
       "      <td>Clayton, Missouri</td>\n",
       "    </tr>\n",
       "    <tr>\n",
       "      <th>7</th>\n",
       "      <td>8</td>\n",
       "      <td>C&amp;S Wholesale Grocers</td>\n",
       "      <td>Wholesaling</td>\n",
       "      <td>34.7</td>\n",
       "      <td>15,000</td>\n",
       "      <td>Keene, New Hampshire</td>\n",
       "    </tr>\n",
       "    <tr>\n",
       "      <th>8</th>\n",
       "      <td>9</td>\n",
       "      <td>Love's</td>\n",
       "      <td>Petroleum industry and Retail</td>\n",
       "      <td>26.5</td>\n",
       "      <td>40,000</td>\n",
       "      <td>Oklahoma City, Oklahoma</td>\n",
       "    </tr>\n",
       "    <tr>\n",
       "      <th>9</th>\n",
       "      <td>10</td>\n",
       "      <td>Southern Glazer's Wine and Spirits</td>\n",
       "      <td>Food industry</td>\n",
       "      <td>26.0</td>\n",
       "      <td>24,000</td>\n",
       "      <td>Miramar, Florida</td>\n",
       "    </tr>\n",
       "  </tbody>\n",
       "</table>\n",
       "</div>"
      ],
      "text/plain": [
       "  Rank                                Name                       Industry  \\\n",
       "0    1                             Cargill                  Food industry   \n",
       "1    2                     Koch Industries                   Conglomerate   \n",
       "2    3                Publix Super Markets                         Retail   \n",
       "3    4                  Mars, Incorporated                  Food industry   \n",
       "4    5                               H-E-B                         Retail   \n",
       "5    6                      Reyes Holdings                    Wholesaling   \n",
       "6    7                 Enterprise Holdings                     Car rental   \n",
       "7    8               C&S Wholesale Grocers                    Wholesaling   \n",
       "8    9                              Love's  Petroleum industry and Retail   \n",
       "9   10  Southern Glazer's Wine and Spirits                  Food industry   \n",
       "\n",
       "  Revenue (USD billions) Employees             Headquarters  \n",
       "0                    177   160,000    Minnetonka, Minnesota  \n",
       "1                    125   120,000          Wichita, Kansas  \n",
       "2                   54.5   250,000        Lakeland, Florida  \n",
       "3                     47   140,000         McLean, Virginia  \n",
       "4                   43.6   145,000       San Antonio, Texas  \n",
       "5                     40    36,000       Rosemont, Illinois  \n",
       "6                     35    90,000        Clayton, Missouri  \n",
       "7                   34.7    15,000     Keene, New Hampshire  \n",
       "8                   26.5    40,000  Oklahoma City, Oklahoma  \n",
       "9                   26.0    24,000         Miramar, Florida  "
      ]
     },
     "execution_count": 10,
     "metadata": {},
     "output_type": "execute_result"
    }
   ],
   "source": [
    "df"
   ]
  },
  {
   "cell_type": "markdown",
   "id": "33cbb115-3adb-41f4-bcb3-fd91fa4eee43",
   "metadata": {},
   "source": [
    "## Saving Data to CSV File"
   ]
  },
  {
   "cell_type": "code",
   "execution_count": 11,
   "id": "4c34a3d2-1cef-4bb2-b2ba-a14ba8a3d6d5",
   "metadata": {},
   "outputs": [
    {
     "name": "stdout",
     "output_type": "stream",
     "text": [
      "Data saved successfully at: C:\\Users\\user\\Desktop\\data_scraped.csv\n"
     ]
    }
   ],
   "source": [
    "output_path = r\"C:\\Users\\user\\Desktop\\studying\\1- python\\web scraping\\data_scraping.csv\"\n",
    "df.to_csv(output_path, index=False)  # Saving without index column\n",
    "\n",
    "print(\"Data saved successfully at:\", output_path)"
   ]
  },
  {
   "cell_type": "code",
   "execution_count": null,
   "id": "a039edf2-019d-4a7e-90c4-0ee7babc5641",
   "metadata": {},
   "outputs": [],
   "source": []
  }
 ],
 "metadata": {
  "kernelspec": {
   "display_name": "Python 3 (ipykernel)",
   "language": "python",
   "name": "python3"
  },
  "language_info": {
   "codemirror_mode": {
    "name": "ipython",
    "version": 3
   },
   "file_extension": ".py",
   "mimetype": "text/x-python",
   "name": "python",
   "nbconvert_exporter": "python",
   "pygments_lexer": "ipython3",
   "version": "3.12.4"
  }
 },
 "nbformat": 4,
 "nbformat_minor": 5
}
